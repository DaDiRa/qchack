{
 "cells": [
  {
   "cell_type": "code",
   "execution_count": 2,
   "id": "permanent-daily",
   "metadata": {},
   "outputs": [
    {
     "name": "stdout",
     "output_type": "stream",
     "text": [
      "[[-4.+0.j -2.+0.j -2.+0.j ...  0.+0.j  0.+0.j  0.+0.j]\n",
      " [-2.+0.j -2.+0.j  0.+0.j ...  0.+0.j  0.+0.j  0.+0.j]\n",
      " [-2.+0.j  0.+0.j  0.+0.j ...  0.+0.j  0.+0.j  0.+0.j]\n",
      " ...\n",
      " [ 0.+0.j  0.+0.j  0.+0.j ...  0.+0.j  0.+0.j -2.+0.j]\n",
      " [ 0.+0.j  0.+0.j  0.+0.j ...  0.+0.j -2.+0.j -2.+0.j]\n",
      " [ 0.+0.j  0.+0.j  0.+0.j ... -2.+0.j -2.+0.j -4.+0.j]]\n"
     ]
    }
   ],
   "source": [
    "from qiskit import *\n",
    "import numpy as np\n",
    "\n",
    "def Hamiltonian(n,h):\n",
    "    qc = np.empty(2*n-1, dtype=object) \n",
    "    for i in range(0, 2*n-1): #2n-1 is the number of factors on the n-site Hamiltonian\n",
    "        qr = QuantumRegister(n) \n",
    "        qc[i] = QuantumCircuit(qr) #create quantum circuits for each factor of the Hamiltonian\n",
    "        #print(i)\n",
    "        if (i<=n-2): #for the first sum of the Hamiltonian\n",
    "            qc[i].z(i) #value of current spin\n",
    "            qc[i].z(i+1) #and value of its neighboring spin\n",
    "        else: #for the second sum of the Hamiltonian\n",
    "            qc[i].x(2*n-2-i) #2*n-2 gives the proper index since counting starts at 0\n",
    "            \n",
    "    simulator = Aer.get_backend('unitary_simulator')\n",
    "    result = np.empty(2*n-1, dtype=object) \n",
    "    unitary = np.empty(2*n-1, dtype=object) \n",
    "    Hamiltonial=0\n",
    "    for i in range(0, 2*n-1):\n",
    "        result[i] = execute(qc[i], backend=simulator).result()\n",
    "        unitary[i] = result[i].get_unitary()\n",
    "        #print(unitary[i])\n",
    "        if (i<=n-2):\n",
    "            Hamiltonial=np.add(Hamiltonial,-unitary[i])\n",
    "        else:\n",
    "            Hamiltonial=np.add(Hamiltonial,-h*unitary[i])\n",
    "    print(Hamiltonial)\n",
    "    #w, v = np.linalg.eigh(Hamiltonian)\n",
    "    \n",
    "Hamiltonian(5,2)"
   ]
  },
  {
   "cell_type": "code",
   "execution_count": null,
   "id": "pleased-tuition",
   "metadata": {},
   "outputs": [],
   "source": []
  }
 ],
 "metadata": {
  "kernelspec": {
   "display_name": "Python 3",
   "language": "python",
   "name": "python3"
  },
  "language_info": {
   "codemirror_mode": {
    "name": "ipython",
    "version": 3
   },
   "file_extension": ".py",
   "mimetype": "text/x-python",
   "name": "python",
   "nbconvert_exporter": "python",
   "pygments_lexer": "ipython3",
   "version": "3.7.6"
  }
 },
 "nbformat": 4,
 "nbformat_minor": 5
}
